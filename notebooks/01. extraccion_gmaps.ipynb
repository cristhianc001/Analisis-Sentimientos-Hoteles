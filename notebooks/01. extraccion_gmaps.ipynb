{
 "cells": [
  {
   "cell_type": "markdown",
   "metadata": {},
   "source": [
    "# Importar librerias"
   ]
  },
  {
   "cell_type": "code",
   "execution_count": 5,
   "metadata": {},
   "outputs": [],
   "source": [
    "import pandas as pd\n",
    "import json\n",
    "import os"
   ]
  },
  {
   "cell_type": "markdown",
   "metadata": {},
   "source": [
    "# Extracción"
   ]
  },
  {
   "cell_type": "markdown",
   "metadata": {},
   "source": [
    "Se carga y se cambia de formato el dataset crudo para que sea mas sencillo cargar y limpiar mas adelante."
   ]
  },
  {
   "cell_type": "markdown",
   "metadata": {},
   "source": [
    "## Metadata de hoteles"
   ]
  },
  {
   "cell_type": "code",
   "execution_count": 3,
   "metadata": {},
   "outputs": [],
   "source": [
    "# Ruta de la carpeta de datos de Google Maps\n",
    "google_maps_folder = '../raw_data/Google Maps/'\n",
    "\n",
    "# Ruta de la subcarpeta \"metadata-sitios\"\n",
    "google_maps_subfolder = os.path.join(google_maps_folder, 'metadata-sitios')"
   ]
  },
  {
   "cell_type": "code",
   "execution_count": 6,
   "metadata": {},
   "outputs": [],
   "source": [
    "# Lista para almacenar los resultados filtrados\n",
    "hotels = []\n",
    "\n",
    "# Recorrer todos los archivos JSON dentro de \"metadata-sitios\"\n",
    "for archivo in os.listdir(google_maps_subfolder):\n",
    "    if archivo.endswith(\".json\"):\n",
    "        # Ruta del archivo JSON actual\n",
    "        ruta_archivo = os.path.join(google_maps_subfolder, archivo)\n",
    "\n",
    "        # Leer el contenido del archivo JSON\n",
    "        with open(ruta_archivo) as f:\n",
    "            contenido_json = f.readlines()\n",
    "\n",
    "        # Cargar cada objeto JSON por separado\n",
    "        for linea in contenido_json:\n",
    "            try:\n",
    "                data = json.loads(linea)\n",
    "            except json.JSONDecodeError as e:\n",
    "                print(f\"Error al cargar el archivo JSON {ruta_archivo}: {e}\")\n",
    "                continue\n",
    "\n",
    "            # Verificar si la categoría \"hotel\" está presente en el archivo JSON\n",
    "            categorias = data.get(\"category\", [])\n",
    "            if isinstance(categorias, list) and any(\"hotel\" in categoria.lower() for categoria in categorias):\n",
    "                hotels.append(data)\n",
    "\n",
    "# Convertir los resultados a un pandas DataFrame\n",
    "dfHotels = pd.DataFrame(hotels)"
   ]
  },
  {
   "cell_type": "code",
   "execution_count": 4,
   "metadata": {},
   "outputs": [],
   "source": [
    "dfHotels.to_csv('../processed_data/hoteles_crudo.csv', index=False, sep='|')"
   ]
  },
  {
   "cell_type": "code",
   "execution_count": 5,
   "metadata": {},
   "outputs": [
    {
     "name": "stdout",
     "output_type": "stream",
     "text": [
      "<class 'pandas.core.frame.DataFrame'>\n",
      "RangeIndex: 7700 entries, 0 to 7699\n",
      "Data columns (total 15 columns):\n",
      " #   Column            Non-Null Count  Dtype  \n",
      "---  ------            --------------  -----  \n",
      " 0   name              7700 non-null   object \n",
      " 1   address           7673 non-null   object \n",
      " 2   gmap_id           7700 non-null   object \n",
      " 3   description       1740 non-null   object \n",
      " 4   latitude          7700 non-null   float64\n",
      " 5   longitude         7700 non-null   float64\n",
      " 6   category          7700 non-null   object \n",
      " 7   avg_rating        7700 non-null   float64\n",
      " 8   num_of_reviews    7700 non-null   int64  \n",
      " 9   price             0 non-null      object \n",
      " 10  hours             36 non-null     object \n",
      " 11  MISC              665 non-null    object \n",
      " 12  state             37 non-null     object \n",
      " 13  relative_results  6058 non-null   object \n",
      " 14  url               7700 non-null   object \n",
      "dtypes: float64(3), int64(1), object(11)\n",
      "memory usage: 902.5+ KB\n"
     ]
    }
   ],
   "source": [
    "dfHotels.info()"
   ]
  },
  {
   "cell_type": "code",
   "execution_count": 6,
   "metadata": {},
   "outputs": [
    {
     "data": {
      "text/html": [
       "<div>\n",
       "<style scoped>\n",
       "    .dataframe tbody tr th:only-of-type {\n",
       "        vertical-align: middle;\n",
       "    }\n",
       "\n",
       "    .dataframe tbody tr th {\n",
       "        vertical-align: top;\n",
       "    }\n",
       "\n",
       "    .dataframe thead th {\n",
       "        text-align: right;\n",
       "    }\n",
       "</style>\n",
       "<table border=\"1\" class=\"dataframe\">\n",
       "  <thead>\n",
       "    <tr style=\"text-align: right;\">\n",
       "      <th></th>\n",
       "      <th>name</th>\n",
       "      <th>address</th>\n",
       "      <th>gmap_id</th>\n",
       "      <th>description</th>\n",
       "      <th>latitude</th>\n",
       "      <th>longitude</th>\n",
       "      <th>category</th>\n",
       "      <th>avg_rating</th>\n",
       "      <th>num_of_reviews</th>\n",
       "      <th>price</th>\n",
       "      <th>hours</th>\n",
       "      <th>MISC</th>\n",
       "      <th>state</th>\n",
       "      <th>relative_results</th>\n",
       "      <th>url</th>\n",
       "    </tr>\n",
       "  </thead>\n",
       "  <tbody>\n",
       "    <tr>\n",
       "      <th>0</th>\n",
       "      <td>Basecamp Guesthouse</td>\n",
       "      <td>Basecamp Guesthouse, 49010 SE Middle Fork Rd, ...</td>\n",
       "      <td>0x54907fca2751e187:0x3d6ae31ac18da483</td>\n",
       "      <td>None</td>\n",
       "      <td>47.471332</td>\n",
       "      <td>-121.686928</td>\n",
       "      <td>[Hotel]</td>\n",
       "      <td>5.0</td>\n",
       "      <td>8</td>\n",
       "      <td>None</td>\n",
       "      <td>None</td>\n",
       "      <td>None</td>\n",
       "      <td>None</td>\n",
       "      <td>[0x54907c35e89f333f:0x121a0cbfbbb39d3a, 0x549a...</td>\n",
       "      <td>https://www.google.com/maps/place//data=!4m2!3...</td>\n",
       "    </tr>\n",
       "    <tr>\n",
       "      <th>1</th>\n",
       "      <td>Sugar River Loft</td>\n",
       "      <td>Sugar River Loft, 929 W Exchange St, Brodhead,...</td>\n",
       "      <td>0x88062b28cb53ef6d:0x94df72568fddf391</td>\n",
       "      <td>None</td>\n",
       "      <td>42.619862</td>\n",
       "      <td>-89.377890</td>\n",
       "      <td>[Hotel]</td>\n",
       "      <td>4.7</td>\n",
       "      <td>8</td>\n",
       "      <td>None</td>\n",
       "      <td>None</td>\n",
       "      <td>None</td>\n",
       "      <td>None</td>\n",
       "      <td>[0x88062b123701348f:0x5c12c6134b41325, 0x88062...</td>\n",
       "      <td>https://www.google.com/maps/place//data=!4m2!3...</td>\n",
       "    </tr>\n",
       "    <tr>\n",
       "      <th>2</th>\n",
       "      <td>Meraki Lodge</td>\n",
       "      <td>Meraki Lodge, 223 Meraki Ln, Manson, WA 98831</td>\n",
       "      <td>0x549b9d4ad8f113d5:0x8258a10cca866a62</td>\n",
       "      <td>None</td>\n",
       "      <td>47.887652</td>\n",
       "      <td>-120.120376</td>\n",
       "      <td>[Hotel, Group accommodation, Lodge, Motel]</td>\n",
       "      <td>4.9</td>\n",
       "      <td>15</td>\n",
       "      <td>None</td>\n",
       "      <td>None</td>\n",
       "      <td>None</td>\n",
       "      <td>None</td>\n",
       "      <td>[0x549b9dd7e3512cd1:0x35541a27ae39f6df, 0x549b...</td>\n",
       "      <td>https://www.google.com/maps/place//data=!4m2!3...</td>\n",
       "    </tr>\n",
       "    <tr>\n",
       "      <th>3</th>\n",
       "      <td>View House at Lake Chelan</td>\n",
       "      <td>View House at Lake Chelan, 245 Summerset Blvd,...</td>\n",
       "      <td>0x549b9db4d73626a3:0x348e8f7106d3be41</td>\n",
       "      <td>None</td>\n",
       "      <td>47.888291</td>\n",
       "      <td>-120.124120</td>\n",
       "      <td>[Hotel]</td>\n",
       "      <td>4.4</td>\n",
       "      <td>8</td>\n",
       "      <td>None</td>\n",
       "      <td>None</td>\n",
       "      <td>None</td>\n",
       "      <td>None</td>\n",
       "      <td>[0x549b9dd43b4f95f5:0x40d73fccf872ebe, 0x549b9...</td>\n",
       "      <td>https://www.google.com/maps/place//data=!4m2!3...</td>\n",
       "    </tr>\n",
       "    <tr>\n",
       "      <th>4</th>\n",
       "      <td>Station Lakefront Rental Home</td>\n",
       "      <td>Station Lakefront Rental Home, 8188 Plum Lake ...</td>\n",
       "      <td>0x4d55cee0af102c25:0x752b313677a78e1c</td>\n",
       "      <td>None</td>\n",
       "      <td>45.998720</td>\n",
       "      <td>-89.490867</td>\n",
       "      <td>[Resort hotel]</td>\n",
       "      <td>4.7</td>\n",
       "      <td>3</td>\n",
       "      <td>None</td>\n",
       "      <td>None</td>\n",
       "      <td>None</td>\n",
       "      <td>None</td>\n",
       "      <td>None</td>\n",
       "      <td>https://www.google.com/maps/place//data=!4m2!3...</td>\n",
       "    </tr>\n",
       "  </tbody>\n",
       "</table>\n",
       "</div>"
      ],
      "text/plain": [
       "                            name  \\\n",
       "0            Basecamp Guesthouse   \n",
       "1               Sugar River Loft   \n",
       "2                   Meraki Lodge   \n",
       "3      View House at Lake Chelan   \n",
       "4  Station Lakefront Rental Home   \n",
       "\n",
       "                                             address  \\\n",
       "0  Basecamp Guesthouse, 49010 SE Middle Fork Rd, ...   \n",
       "1  Sugar River Loft, 929 W Exchange St, Brodhead,...   \n",
       "2      Meraki Lodge, 223 Meraki Ln, Manson, WA 98831   \n",
       "3  View House at Lake Chelan, 245 Summerset Blvd,...   \n",
       "4  Station Lakefront Rental Home, 8188 Plum Lake ...   \n",
       "\n",
       "                                 gmap_id description   latitude   longitude  \\\n",
       "0  0x54907fca2751e187:0x3d6ae31ac18da483        None  47.471332 -121.686928   \n",
       "1  0x88062b28cb53ef6d:0x94df72568fddf391        None  42.619862  -89.377890   \n",
       "2  0x549b9d4ad8f113d5:0x8258a10cca866a62        None  47.887652 -120.120376   \n",
       "3  0x549b9db4d73626a3:0x348e8f7106d3be41        None  47.888291 -120.124120   \n",
       "4  0x4d55cee0af102c25:0x752b313677a78e1c        None  45.998720  -89.490867   \n",
       "\n",
       "                                     category  avg_rating  num_of_reviews  \\\n",
       "0                                     [Hotel]         5.0               8   \n",
       "1                                     [Hotel]         4.7               8   \n",
       "2  [Hotel, Group accommodation, Lodge, Motel]         4.9              15   \n",
       "3                                     [Hotel]         4.4               8   \n",
       "4                              [Resort hotel]         4.7               3   \n",
       "\n",
       "  price hours  MISC state                                   relative_results  \\\n",
       "0  None  None  None  None  [0x54907c35e89f333f:0x121a0cbfbbb39d3a, 0x549a...   \n",
       "1  None  None  None  None  [0x88062b123701348f:0x5c12c6134b41325, 0x88062...   \n",
       "2  None  None  None  None  [0x549b9dd7e3512cd1:0x35541a27ae39f6df, 0x549b...   \n",
       "3  None  None  None  None  [0x549b9dd43b4f95f5:0x40d73fccf872ebe, 0x549b9...   \n",
       "4  None  None  None  None                                               None   \n",
       "\n",
       "                                                 url  \n",
       "0  https://www.google.com/maps/place//data=!4m2!3...  \n",
       "1  https://www.google.com/maps/place//data=!4m2!3...  \n",
       "2  https://www.google.com/maps/place//data=!4m2!3...  \n",
       "3  https://www.google.com/maps/place//data=!4m2!3...  \n",
       "4  https://www.google.com/maps/place//data=!4m2!3...  "
      ]
     },
     "execution_count": 6,
     "metadata": {},
     "output_type": "execute_result"
    }
   ],
   "source": [
    "dfHotels.head()"
   ]
  },
  {
   "cell_type": "code",
   "execution_count": 7,
   "metadata": {},
   "outputs": [
    {
     "name": "stdout",
     "output_type": "stream",
     "text": [
      "Duplicados \"hotels\": 63\n"
     ]
    }
   ],
   "source": [
    "print('Duplicados \"hotels\":', dfHotels['gmap_id'].duplicated().sum())"
   ]
  },
  {
   "cell_type": "code",
   "execution_count": 7,
   "metadata": {},
   "outputs": [],
   "source": [
    "dfHotels = dfHotels.drop_duplicates(subset='gmap_id') #63 observaciones"
   ]
  },
  {
   "cell_type": "code",
   "execution_count": 8,
   "metadata": {},
   "outputs": [
    {
     "data": {
      "text/plain": [
       "(7637, 15)"
      ]
     },
     "execution_count": 8,
     "metadata": {},
     "output_type": "execute_result"
    }
   ],
   "source": [
    "dfHotels.shape"
   ]
  },
  {
   "cell_type": "markdown",
   "metadata": {},
   "source": [
    "# Reviews por estado"
   ]
  },
  {
   "cell_type": "markdown",
   "metadata": {},
   "source": [
    "## Funcion para listar subcarpetas"
   ]
  },
  {
   "cell_type": "code",
   "execution_count": 2,
   "metadata": {},
   "outputs": [],
   "source": [
    "def get_subfolders(folder_path):\n",
    "    subfolders = [f.path for f in os.scandir(folder_path) if f.is_dir()]\n",
    "    return subfolders\n",
    "\n",
    "folder_path_reviews_estados = \"../raw_data/Google Maps/reviews-estados\"\n",
    "subfolders = get_subfolders(folder_path_reviews_estados)"
   ]
  },
  {
   "cell_type": "code",
   "execution_count": 11,
   "metadata": {},
   "outputs": [
    {
     "data": {
      "text/plain": [
       "[]"
      ]
     },
     "execution_count": 11,
     "metadata": {},
     "output_type": "execute_result"
    }
   ],
   "source": [
    "subfolders"
   ]
  },
  {
   "cell_type": "markdown",
   "metadata": {},
   "source": [
    "## Funcion para unir archivos json"
   ]
  },
  {
   "cell_type": "code",
   "execution_count": 12,
   "metadata": {},
   "outputs": [],
   "source": [
    "def read_json_files(folder_path):\n",
    "    data = []\n",
    "    \n",
    "    for file_name in os.listdir(folder_path):\n",
    "        if file_name.endswith(\".json\"):\n",
    "            file_path = os.path.join(folder_path, file_name)\n",
    "            with open(file_path, 'r') as file:\n",
    "                for line in file:\n",
    "                    line = line.strip()\n",
    "                    if line:\n",
    "                        try:\n",
    "                            json_obj = json.loads(line)\n",
    "                            data.append(json_obj)\n",
    "                        except json.JSONDecodeError:\n",
    "                            continue\n",
    "\n",
    "    df = pd.DataFrame(data)\n",
    "    return df"
   ]
  },
  {
   "cell_type": "markdown",
   "metadata": {},
   "source": [
    "## Funcion para unir los json en cada subcarpeta"
   ]
  },
  {
   "cell_type": "markdown",
   "metadata": {},
   "source": [
    "Dependiendo de la capacidad de computo, es posible que se necesite realizar este paso con pocos archivos a la vez."
   ]
  },
  {
   "cell_type": "code",
   "execution_count": 125,
   "metadata": {},
   "outputs": [],
   "source": [
    "def read_json_files_in_subfolders(subfolders):\n",
    "    df_list = []\n",
    "    \n",
    "    for subfolder in subfolders:\n",
    "        df = read_json_files(subfolder)\n",
    "        df_list.append(df)\n",
    "    \n",
    "    return df_list\n",
    "\n",
    "dataframes_list = read_json_files_in_subfolders(subfolders)"
   ]
  },
  {
   "cell_type": "markdown",
   "metadata": {},
   "source": [
    "Concatenar la lista en un df y guardar."
   ]
  },
  {
   "cell_type": "code",
   "execution_count": 126,
   "metadata": {},
   "outputs": [],
   "source": [
    "dfreviews = pd.concat(dataframes_list, ignore_index=True)"
   ]
  },
  {
   "cell_type": "code",
   "execution_count": 127,
   "metadata": {},
   "outputs": [],
   "source": [
    "dfreviews.to_parquet('../raw_data/Google Maps/reviews-estados/reviews_google_crudo.parquet', index=False, compression=\"gzip\")"
   ]
  },
  {
   "cell_type": "markdown",
   "metadata": {},
   "source": [
    "En caso tal de haber dividido los archivos en varios parquet, se puede usar este codigo para concatenarlos y luego hacer merge con el dataframe de hoteles para reducir su tamaño."
   ]
  },
  {
   "cell_type": "code",
   "execution_count": 11,
   "metadata": {},
   "outputs": [],
   "source": [
    "def load_and_concat_parquet_files(folder_path):\n",
    "    # Obtener una lista de todos los archivos Parquet en la carpeta\n",
    "    parquet_files = [file for file in os.listdir(folder_path) if file.endswith('.parquet')]\n",
    "\n",
    "    # Inicializar una lista para almacenar los DataFrames\n",
    "    dfs = []\n",
    "\n",
    "    # Cargar cada archivo Parquet en un DataFrame y agregarlo a la lista\n",
    "    for file in parquet_files:\n",
    "        file_path = os.path.join(folder_path, file)\n",
    "        df = pd.read_parquet(file_path)\n",
    "        dfs.append(df)\n",
    "\n",
    "    # Concatenar los DataFrames en uno solo\n",
    "    concatenated_df = pd.concat(dfs, ignore_index=True)\n",
    "\n",
    "    return concatenated_df\n",
    "\n",
    "folder_path = '../raw_data/Google Maps/reviews-estados/'\n",
    "reviews_df = load_and_concat_parquet_files(folder_path)\n"
   ]
  },
  {
   "cell_type": "markdown",
   "metadata": {},
   "source": [
    "## Uniendo hoteles con reviews"
   ]
  },
  {
   "cell_type": "code",
   "execution_count": 13,
   "metadata": {},
   "outputs": [],
   "source": [
    "inner_merged = pd.merge(reviews_df, dfHotels, on=[\"gmap_id\"])"
   ]
  },
  {
   "cell_type": "code",
   "execution_count": 16,
   "metadata": {},
   "outputs": [],
   "source": [
    "inner_merged.to_csv(\"../raw_data/Google Maps/reviews-estados/reviews_hoteles_crudo.csv\", index=False,  sep='|')"
   ]
  }
 ],
 "metadata": {
  "kernelspec": {
   "display_name": "Python 3",
   "language": "python",
   "name": "python3"
  },
  "language_info": {
   "codemirror_mode": {
    "name": "ipython",
    "version": 3
   },
   "file_extension": ".py",
   "mimetype": "text/x-python",
   "name": "python",
   "nbconvert_exporter": "python",
   "pygments_lexer": "ipython3",
   "version": "3.10.11"
  },
  "orig_nbformat": 4
 },
 "nbformat": 4,
 "nbformat_minor": 2
}
