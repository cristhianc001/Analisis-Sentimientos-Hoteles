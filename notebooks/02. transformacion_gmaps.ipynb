{
 "cells": [
  {
   "cell_type": "markdown",
   "metadata": {},
   "source": [
    "# Importar librerias y dataset"
   ]
  },
  {
   "cell_type": "code",
   "execution_count": 6,
   "metadata": {},
   "outputs": [],
   "source": [
    "import pandas as pd\n",
    "import re\n",
    "import warnings\n",
    "warnings.filterwarnings(\"ignore\")"
   ]
  },
  {
   "cell_type": "code",
   "execution_count": 78,
   "metadata": {},
   "outputs": [],
   "source": [
    "hoteles = pd.read_csv(\"../raw_data/Google Maps/reviews-estados/hoteles_crudo.csv\", sep=\"|\")"
   ]
  },
  {
   "cell_type": "code",
   "execution_count": 7,
   "metadata": {},
   "outputs": [],
   "source": [
    "reviews = pd.read_csv(\"../raw_data/Google Maps/reviews-estados/reviews_hoteles_crudo.csv\", sep=\"|\")"
   ]
  },
  {
   "cell_type": "markdown",
   "metadata": {},
   "source": [
    "# Nulos y duplicados"
   ]
  },
  {
   "cell_type": "markdown",
   "metadata": {},
   "source": [
    "## Hoteles"
   ]
  },
  {
   "cell_type": "code",
   "execution_count": 79,
   "metadata": {},
   "outputs": [
    {
     "data": {
      "text/plain": [
       "name                0.000130\n",
       "address             0.003506\n",
       "gmap_id             0.000000\n",
       "description         0.774026\n",
       "latitude            0.000000\n",
       "longitude           0.000000\n",
       "category            0.000000\n",
       "avg_rating          0.000000\n",
       "num_of_reviews      0.000000\n",
       "price               1.000000\n",
       "hours               0.995325\n",
       "MISC                0.913636\n",
       "state               0.995195\n",
       "relative_results    0.213247\n",
       "url                 0.000000\n",
       "dtype: float64"
      ]
     },
     "execution_count": 79,
     "metadata": {},
     "output_type": "execute_result"
    }
   ],
   "source": [
    "hoteles.isna().mean()"
   ]
  },
  {
   "cell_type": "code",
   "execution_count": 80,
   "metadata": {},
   "outputs": [],
   "source": [
    "borrar_columnas = [\"description\", \"price\", \"hours\", \"MISC\", \"relative_results\", \"url\"]\n",
    "hoteles.drop(columns = borrar_columnas, inplace = True)"
   ]
  },
  {
   "cell_type": "code",
   "execution_count": 81,
   "metadata": {},
   "outputs": [],
   "source": [
    "hoteles.dropna(subset = [\"name\", \"address\"], inplace=True)"
   ]
  },
  {
   "cell_type": "code",
   "execution_count": 82,
   "metadata": {},
   "outputs": [
    {
     "data": {
      "text/plain": [
       "name               object\n",
       "address            object\n",
       "gmap_id            object\n",
       "latitude          float64\n",
       "longitude         float64\n",
       "category           object\n",
       "avg_rating        float64\n",
       "num_of_reviews      int64\n",
       "state              object\n",
       "dtype: object"
      ]
     },
     "execution_count": 82,
     "metadata": {},
     "output_type": "execute_result"
    }
   ],
   "source": [
    "hoteles.dtypes"
   ]
  },
  {
   "cell_type": "code",
   "execution_count": 16,
   "metadata": {},
   "outputs": [
    {
     "data": {
      "text/plain": [
       "(7672, 9)"
      ]
     },
     "execution_count": 16,
     "metadata": {},
     "output_type": "execute_result"
    }
   ],
   "source": [
    "hoteles.shape"
   ]
  },
  {
   "cell_type": "code",
   "execution_count": 84,
   "metadata": {},
   "outputs": [
    {
     "data": {
      "text/plain": [
       "571"
      ]
     },
     "execution_count": 84,
     "metadata": {},
     "output_type": "execute_result"
    }
   ],
   "source": [
    "hoteles.duplicated(subset='name').sum()"
   ]
  },
  {
   "cell_type": "code",
   "execution_count": 85,
   "metadata": {},
   "outputs": [],
   "source": [
    "hoteles.drop_duplicates(subset='name', inplace=True) "
   ]
  },
  {
   "cell_type": "markdown",
   "metadata": {},
   "source": [
    "## Reviews"
   ]
  },
  {
   "cell_type": "code",
   "execution_count": 20,
   "metadata": {},
   "outputs": [
    {
     "data": {
      "text/plain": [
       "user_id             0.000000\n",
       "name_x              0.000000\n",
       "time                0.000000\n",
       "rating              0.000000\n",
       "text                0.375033\n",
       "pics                0.965694\n",
       "resp                0.903602\n",
       "gmap_id             0.000000\n",
       "name_y              0.000000\n",
       "address             0.000265\n",
       "description         0.440690\n",
       "latitude            0.000000\n",
       "longitude           0.000000\n",
       "category            0.000000\n",
       "avg_rating          0.000000\n",
       "num_of_reviews      0.000000\n",
       "price               1.000000\n",
       "hours               0.999510\n",
       "MISC                0.740711\n",
       "state               0.999510\n",
       "relative_results    0.027469\n",
       "url                 0.000000\n",
       "dtype: float64"
      ]
     },
     "execution_count": 20,
     "metadata": {},
     "output_type": "execute_result"
    }
   ],
   "source": [
    "reviews.isna().mean()"
   ]
  },
  {
   "cell_type": "code",
   "execution_count": 21,
   "metadata": {},
   "outputs": [],
   "source": [
    "borrar_columnas = [\"pics\", \"resp\"]\n",
    "reviews.drop(columns=borrar_columnas, inplace=True)"
   ]
  },
  {
   "cell_type": "code",
   "execution_count": 30,
   "metadata": {},
   "outputs": [],
   "source": [
    "reviews.dropna(subset = [\"text\"], inplace=True)"
   ]
  },
  {
   "cell_type": "code",
   "execution_count": 33,
   "metadata": {},
   "outputs": [
    {
     "data": {
      "text/plain": [
       "2408"
      ]
     },
     "execution_count": 33,
     "metadata": {},
     "output_type": "execute_result"
    }
   ],
   "source": [
    "reviews.duplicated().sum()"
   ]
  },
  {
   "cell_type": "code",
   "execution_count": 34,
   "metadata": {},
   "outputs": [],
   "source": [
    "reviews.drop_duplicates(inplace=True) "
   ]
  },
  {
   "cell_type": "code",
   "execution_count": 32,
   "metadata": {},
   "outputs": [
    {
     "data": {
      "text/plain": [
       "user_id    object\n",
       "name_x     object\n",
       "time        int64\n",
       "rating      int64\n",
       "text       object\n",
       "gmap_id    object\n",
       "dtype: object"
      ]
     },
     "execution_count": 32,
     "metadata": {},
     "output_type": "execute_result"
    }
   ],
   "source": [
    "reviews.dtypes"
   ]
  },
  {
   "cell_type": "code",
   "execution_count": 36,
   "metadata": {},
   "outputs": [
    {
     "data": {
      "text/plain": [
       "(44757, 6)"
      ]
     },
     "execution_count": 36,
     "metadata": {},
     "output_type": "execute_result"
    }
   ],
   "source": [
    "reviews.shape"
   ]
  },
  {
   "cell_type": "markdown",
   "metadata": {},
   "source": [
    "# Normalización"
   ]
  },
  {
   "cell_type": "markdown",
   "metadata": {},
   "source": [
    "## Tablas dimensionales"
   ]
  },
  {
   "cell_type": "markdown",
   "metadata": {},
   "source": [
    "### Business, category y state"
   ]
  },
  {
   "cell_type": "code",
   "execution_count": 88,
   "metadata": {},
   "outputs": [
    {
     "data": {
      "text/html": [
       "<div>\n",
       "<style scoped>\n",
       "    .dataframe tbody tr th:only-of-type {\n",
       "        vertical-align: middle;\n",
       "    }\n",
       "\n",
       "    .dataframe tbody tr th {\n",
       "        vertical-align: top;\n",
       "    }\n",
       "\n",
       "    .dataframe thead th {\n",
       "        text-align: right;\n",
       "    }\n",
       "</style>\n",
       "<table border=\"1\" class=\"dataframe\">\n",
       "  <thead>\n",
       "    <tr style=\"text-align: right;\">\n",
       "      <th></th>\n",
       "      <th>name</th>\n",
       "      <th>address</th>\n",
       "      <th>gmap_id</th>\n",
       "      <th>latitude</th>\n",
       "      <th>longitude</th>\n",
       "      <th>category</th>\n",
       "      <th>avg_rating</th>\n",
       "      <th>num_of_reviews</th>\n",
       "      <th>state</th>\n",
       "    </tr>\n",
       "  </thead>\n",
       "  <tbody>\n",
       "    <tr>\n",
       "      <th>0</th>\n",
       "      <td>Basecamp Guesthouse</td>\n",
       "      <td>Basecamp Guesthouse, 49010 SE Middle Fork Rd, ...</td>\n",
       "      <td>0x54907fca2751e187:0x3d6ae31ac18da483</td>\n",
       "      <td>47.471332</td>\n",
       "      <td>-121.686928</td>\n",
       "      <td>['Hotel']</td>\n",
       "      <td>5.0</td>\n",
       "      <td>8</td>\n",
       "      <td>NaN</td>\n",
       "    </tr>\n",
       "    <tr>\n",
       "      <th>1</th>\n",
       "      <td>Sugar River Loft</td>\n",
       "      <td>Sugar River Loft, 929 W Exchange St, Brodhead,...</td>\n",
       "      <td>0x88062b28cb53ef6d:0x94df72568fddf391</td>\n",
       "      <td>42.619862</td>\n",
       "      <td>-89.377890</td>\n",
       "      <td>['Hotel']</td>\n",
       "      <td>4.7</td>\n",
       "      <td>8</td>\n",
       "      <td>NaN</td>\n",
       "    </tr>\n",
       "    <tr>\n",
       "      <th>2</th>\n",
       "      <td>Meraki Lodge</td>\n",
       "      <td>Meraki Lodge, 223 Meraki Ln, Manson, WA 98831</td>\n",
       "      <td>0x549b9d4ad8f113d5:0x8258a10cca866a62</td>\n",
       "      <td>47.887653</td>\n",
       "      <td>-120.120376</td>\n",
       "      <td>['Hotel', 'Group accommodation', 'Lodge', 'Mot...</td>\n",
       "      <td>4.9</td>\n",
       "      <td>15</td>\n",
       "      <td>NaN</td>\n",
       "    </tr>\n",
       "    <tr>\n",
       "      <th>3</th>\n",
       "      <td>View House at Lake Chelan</td>\n",
       "      <td>View House at Lake Chelan, 245 Summerset Blvd,...</td>\n",
       "      <td>0x549b9db4d73626a3:0x348e8f7106d3be41</td>\n",
       "      <td>47.888291</td>\n",
       "      <td>-120.124120</td>\n",
       "      <td>['Hotel']</td>\n",
       "      <td>4.4</td>\n",
       "      <td>8</td>\n",
       "      <td>NaN</td>\n",
       "    </tr>\n",
       "    <tr>\n",
       "      <th>4</th>\n",
       "      <td>Station Lakefront Rental Home</td>\n",
       "      <td>Station Lakefront Rental Home, 8188 Plum Lake ...</td>\n",
       "      <td>0x4d55cee0af102c25:0x752b313677a78e1c</td>\n",
       "      <td>45.998720</td>\n",
       "      <td>-89.490867</td>\n",
       "      <td>['Resort hotel']</td>\n",
       "      <td>4.7</td>\n",
       "      <td>3</td>\n",
       "      <td>NaN</td>\n",
       "    </tr>\n",
       "  </tbody>\n",
       "</table>\n",
       "</div>"
      ],
      "text/plain": [
       "                            name  \\\n",
       "0            Basecamp Guesthouse   \n",
       "1               Sugar River Loft   \n",
       "2                   Meraki Lodge   \n",
       "3      View House at Lake Chelan   \n",
       "4  Station Lakefront Rental Home   \n",
       "\n",
       "                                             address  \\\n",
       "0  Basecamp Guesthouse, 49010 SE Middle Fork Rd, ...   \n",
       "1  Sugar River Loft, 929 W Exchange St, Brodhead,...   \n",
       "2      Meraki Lodge, 223 Meraki Ln, Manson, WA 98831   \n",
       "3  View House at Lake Chelan, 245 Summerset Blvd,...   \n",
       "4  Station Lakefront Rental Home, 8188 Plum Lake ...   \n",
       "\n",
       "                                 gmap_id   latitude   longitude  \\\n",
       "0  0x54907fca2751e187:0x3d6ae31ac18da483  47.471332 -121.686928   \n",
       "1  0x88062b28cb53ef6d:0x94df72568fddf391  42.619862  -89.377890   \n",
       "2  0x549b9d4ad8f113d5:0x8258a10cca866a62  47.887653 -120.120376   \n",
       "3  0x549b9db4d73626a3:0x348e8f7106d3be41  47.888291 -120.124120   \n",
       "4  0x4d55cee0af102c25:0x752b313677a78e1c  45.998720  -89.490867   \n",
       "\n",
       "                                            category  avg_rating  \\\n",
       "0                                          ['Hotel']         5.0   \n",
       "1                                          ['Hotel']         4.7   \n",
       "2  ['Hotel', 'Group accommodation', 'Lodge', 'Mot...         4.9   \n",
       "3                                          ['Hotel']         4.4   \n",
       "4                                   ['Resort hotel']         4.7   \n",
       "\n",
       "   num_of_reviews state  \n",
       "0               8   NaN  \n",
       "1               8   NaN  \n",
       "2              15   NaN  \n",
       "3               8   NaN  \n",
       "4               3   NaN  "
      ]
     },
     "execution_count": 88,
     "metadata": {},
     "output_type": "execute_result"
    }
   ],
   "source": [
    "hoteles.head()"
   ]
  },
  {
   "cell_type": "code",
   "execution_count": 123,
   "metadata": {},
   "outputs": [],
   "source": [
    "business = hoteles.reset_index(drop=True)"
   ]
  },
  {
   "cell_type": "code",
   "execution_count": 124,
   "metadata": {},
   "outputs": [
    {
     "data": {
      "text/html": [
       "<div>\n",
       "<style scoped>\n",
       "    .dataframe tbody tr th:only-of-type {\n",
       "        vertical-align: middle;\n",
       "    }\n",
       "\n",
       "    .dataframe tbody tr th {\n",
       "        vertical-align: top;\n",
       "    }\n",
       "\n",
       "    .dataframe thead th {\n",
       "        text-align: right;\n",
       "    }\n",
       "</style>\n",
       "<table border=\"1\" class=\"dataframe\">\n",
       "  <thead>\n",
       "    <tr style=\"text-align: right;\">\n",
       "      <th></th>\n",
       "      <th>business_id</th>\n",
       "      <th>business_name</th>\n",
       "      <th>address</th>\n",
       "      <th>gmap_id</th>\n",
       "      <th>latitude</th>\n",
       "      <th>longitude</th>\n",
       "      <th>category</th>\n",
       "      <th>avg_rating</th>\n",
       "      <th>num_of_reviews</th>\n",
       "      <th>state</th>\n",
       "    </tr>\n",
       "  </thead>\n",
       "  <tbody>\n",
       "    <tr>\n",
       "      <th>0</th>\n",
       "      <td>0</td>\n",
       "      <td>Basecamp Guesthouse</td>\n",
       "      <td>Basecamp Guesthouse, 49010 SE Middle Fork Rd, ...</td>\n",
       "      <td>0x54907fca2751e187:0x3d6ae31ac18da483</td>\n",
       "      <td>47.471332</td>\n",
       "      <td>-121.686928</td>\n",
       "      <td>['Hotel']</td>\n",
       "      <td>5.0</td>\n",
       "      <td>8</td>\n",
       "      <td>NaN</td>\n",
       "    </tr>\n",
       "    <tr>\n",
       "      <th>1</th>\n",
       "      <td>1</td>\n",
       "      <td>Sugar River Loft</td>\n",
       "      <td>Sugar River Loft, 929 W Exchange St, Brodhead,...</td>\n",
       "      <td>0x88062b28cb53ef6d:0x94df72568fddf391</td>\n",
       "      <td>42.619862</td>\n",
       "      <td>-89.377890</td>\n",
       "      <td>['Hotel']</td>\n",
       "      <td>4.7</td>\n",
       "      <td>8</td>\n",
       "      <td>NaN</td>\n",
       "    </tr>\n",
       "    <tr>\n",
       "      <th>2</th>\n",
       "      <td>2</td>\n",
       "      <td>Meraki Lodge</td>\n",
       "      <td>Meraki Lodge, 223 Meraki Ln, Manson, WA 98831</td>\n",
       "      <td>0x549b9d4ad8f113d5:0x8258a10cca866a62</td>\n",
       "      <td>47.887653</td>\n",
       "      <td>-120.120376</td>\n",
       "      <td>['Hotel', 'Group accommodation', 'Lodge', 'Mot...</td>\n",
       "      <td>4.9</td>\n",
       "      <td>15</td>\n",
       "      <td>NaN</td>\n",
       "    </tr>\n",
       "    <tr>\n",
       "      <th>3</th>\n",
       "      <td>3</td>\n",
       "      <td>View House at Lake Chelan</td>\n",
       "      <td>View House at Lake Chelan, 245 Summerset Blvd,...</td>\n",
       "      <td>0x549b9db4d73626a3:0x348e8f7106d3be41</td>\n",
       "      <td>47.888291</td>\n",
       "      <td>-120.124120</td>\n",
       "      <td>['Hotel']</td>\n",
       "      <td>4.4</td>\n",
       "      <td>8</td>\n",
       "      <td>NaN</td>\n",
       "    </tr>\n",
       "    <tr>\n",
       "      <th>4</th>\n",
       "      <td>4</td>\n",
       "      <td>Station Lakefront Rental Home</td>\n",
       "      <td>Station Lakefront Rental Home, 8188 Plum Lake ...</td>\n",
       "      <td>0x4d55cee0af102c25:0x752b313677a78e1c</td>\n",
       "      <td>45.998720</td>\n",
       "      <td>-89.490867</td>\n",
       "      <td>['Resort hotel']</td>\n",
       "      <td>4.7</td>\n",
       "      <td>3</td>\n",
       "      <td>NaN</td>\n",
       "    </tr>\n",
       "  </tbody>\n",
       "</table>\n",
       "</div>"
      ],
      "text/plain": [
       "   business_id                  business_name  \\\n",
       "0            0            Basecamp Guesthouse   \n",
       "1            1               Sugar River Loft   \n",
       "2            2                   Meraki Lodge   \n",
       "3            3      View House at Lake Chelan   \n",
       "4            4  Station Lakefront Rental Home   \n",
       "\n",
       "                                             address  \\\n",
       "0  Basecamp Guesthouse, 49010 SE Middle Fork Rd, ...   \n",
       "1  Sugar River Loft, 929 W Exchange St, Brodhead,...   \n",
       "2      Meraki Lodge, 223 Meraki Ln, Manson, WA 98831   \n",
       "3  View House at Lake Chelan, 245 Summerset Blvd,...   \n",
       "4  Station Lakefront Rental Home, 8188 Plum Lake ...   \n",
       "\n",
       "                                 gmap_id   latitude   longitude  \\\n",
       "0  0x54907fca2751e187:0x3d6ae31ac18da483  47.471332 -121.686928   \n",
       "1  0x88062b28cb53ef6d:0x94df72568fddf391  42.619862  -89.377890   \n",
       "2  0x549b9d4ad8f113d5:0x8258a10cca866a62  47.887653 -120.120376   \n",
       "3  0x549b9db4d73626a3:0x348e8f7106d3be41  47.888291 -120.124120   \n",
       "4  0x4d55cee0af102c25:0x752b313677a78e1c  45.998720  -89.490867   \n",
       "\n",
       "                                            category  avg_rating  \\\n",
       "0                                          ['Hotel']         5.0   \n",
       "1                                          ['Hotel']         4.7   \n",
       "2  ['Hotel', 'Group accommodation', 'Lodge', 'Mot...         4.9   \n",
       "3                                          ['Hotel']         4.4   \n",
       "4                                   ['Resort hotel']         4.7   \n",
       "\n",
       "   num_of_reviews state  \n",
       "0               8   NaN  \n",
       "1               8   NaN  \n",
       "2              15   NaN  \n",
       "3               8   NaN  \n",
       "4               3   NaN  "
      ]
     },
     "execution_count": 124,
     "metadata": {},
     "output_type": "execute_result"
    }
   ],
   "source": [
    "business = business.reset_index()\n",
    "business.rename(columns={'index': 'business_id', 'name': 'business_name'}, inplace=True)\n",
    "business.head()"
   ]
  },
  {
   "cell_type": "code",
   "execution_count": 125,
   "metadata": {},
   "outputs": [],
   "source": [
    "valid_state_codes = [\"AL\", \"AK\", \"AZ\", \"AR\", \"CA\", \"CO\", \"CT\", \"DC\", \"DE\", \"FL\", \"GA\", \"HI\", \"ID\", \"IL\", \"IN\", \"IA\", \"KS\", \n",
    "                    \"KY\", \"LA\", \"ME\", \"MD\", \"MA\", \"MI\", \"MN\", \"MS\", \"MO\", \"MT\", \"NE\", \"NV\", \"NH\", \"NJ\", \"NM\", \"NY\", \n",
    "                    \"NC\", \"ND\", \"OH\", \"OK\", \"OR\", \"PA\", \"RI\", \"SC\", \"SD\", \"TN\", \"TX\", \"UT\", \"VT\", \"VA\", \"WA\", \"WV\", \"WI\", \"WY\"]"
   ]
  },
  {
   "cell_type": "code",
   "execution_count": 132,
   "metadata": {},
   "outputs": [],
   "source": [
    "def extract_state_code(address):\n",
    "    # Expresión regular para buscar códigos de estado válidos\n",
    "    regex_pattern = r\"\\b(\" + \"|\".join(valid_state_codes) + r\")\\b\"\n",
    "\n",
    "    # Busca el código de estado en la dirección usando regex\n",
    "    match = re.search(regex_pattern, address)\n",
    "\n",
    "    # Devuelve el código de estado si se encuentra, o None si no se encuentra\n",
    "    return match.group(0) if match else None\n",
    "\n",
    "# Crea una nueva columna \"state\" aplicando la función a la columna \"address\"\n",
    "\n",
    "business['state'] = business['address'].apply(extract_state_code)"
   ]
  },
  {
   "cell_type": "code",
   "execution_count": 134,
   "metadata": {},
   "outputs": [
    {
     "data": {
      "text/plain": [
       "business_id        0\n",
       "business_name      0\n",
       "address            0\n",
       "gmap_id            0\n",
       "latitude           0\n",
       "longitude          0\n",
       "category           0\n",
       "avg_rating         0\n",
       "num_of_reviews     0\n",
       "state             31\n",
       "dtype: int64"
      ]
     },
     "execution_count": 134,
     "metadata": {},
     "output_type": "execute_result"
    }
   ],
   "source": [
    "business.isna().sum()"
   ]
  },
  {
   "cell_type": "code",
   "execution_count": 135,
   "metadata": {},
   "outputs": [],
   "source": [
    "business.dropna(subset=\"state\", inplace=True)"
   ]
  },
  {
   "cell_type": "code",
   "execution_count": 203,
   "metadata": {},
   "outputs": [
    {
     "data": {
      "text/html": [
       "<div>\n",
       "<style scoped>\n",
       "    .dataframe tbody tr th:only-of-type {\n",
       "        vertical-align: middle;\n",
       "    }\n",
       "\n",
       "    .dataframe tbody tr th {\n",
       "        vertical-align: top;\n",
       "    }\n",
       "\n",
       "    .dataframe thead th {\n",
       "        text-align: right;\n",
       "    }\n",
       "</style>\n",
       "<table border=\"1\" class=\"dataframe\">\n",
       "  <thead>\n",
       "    <tr style=\"text-align: right;\">\n",
       "      <th></th>\n",
       "      <th>business_id</th>\n",
       "      <th>business_name</th>\n",
       "      <th>address</th>\n",
       "      <th>gmap_id</th>\n",
       "      <th>latitude</th>\n",
       "      <th>longitude</th>\n",
       "      <th>category</th>\n",
       "      <th>avg_rating</th>\n",
       "      <th>num_of_reviews</th>\n",
       "      <th>state</th>\n",
       "    </tr>\n",
       "  </thead>\n",
       "  <tbody>\n",
       "    <tr>\n",
       "      <th>0</th>\n",
       "      <td>0</td>\n",
       "      <td>Basecamp Guesthouse</td>\n",
       "      <td>Basecamp Guesthouse, 49010 SE Middle Fork Rd, ...</td>\n",
       "      <td>0x54907fca2751e187:0x3d6ae31ac18da483</td>\n",
       "      <td>47.471332</td>\n",
       "      <td>-121.686928</td>\n",
       "      <td>[Hotel]</td>\n",
       "      <td>5.0</td>\n",
       "      <td>8</td>\n",
       "      <td>WA</td>\n",
       "    </tr>\n",
       "    <tr>\n",
       "      <th>1</th>\n",
       "      <td>1</td>\n",
       "      <td>Sugar River Loft</td>\n",
       "      <td>Sugar River Loft, 929 W Exchange St, Brodhead,...</td>\n",
       "      <td>0x88062b28cb53ef6d:0x94df72568fddf391</td>\n",
       "      <td>42.619862</td>\n",
       "      <td>-89.377890</td>\n",
       "      <td>[Hotel]</td>\n",
       "      <td>4.7</td>\n",
       "      <td>8</td>\n",
       "      <td>WI</td>\n",
       "    </tr>\n",
       "    <tr>\n",
       "      <th>2</th>\n",
       "      <td>2</td>\n",
       "      <td>Meraki Lodge</td>\n",
       "      <td>Meraki Lodge, 223 Meraki Ln, Manson, WA 98831</td>\n",
       "      <td>0x549b9d4ad8f113d5:0x8258a10cca866a62</td>\n",
       "      <td>47.887653</td>\n",
       "      <td>-120.120376</td>\n",
       "      <td>[Hotel, Group accommodation, Lodge, Motel]</td>\n",
       "      <td>4.9</td>\n",
       "      <td>15</td>\n",
       "      <td>WA</td>\n",
       "    </tr>\n",
       "    <tr>\n",
       "      <th>3</th>\n",
       "      <td>3</td>\n",
       "      <td>View House at Lake Chelan</td>\n",
       "      <td>View House at Lake Chelan, 245 Summerset Blvd,...</td>\n",
       "      <td>0x549b9db4d73626a3:0x348e8f7106d3be41</td>\n",
       "      <td>47.888291</td>\n",
       "      <td>-120.124120</td>\n",
       "      <td>[Hotel]</td>\n",
       "      <td>4.4</td>\n",
       "      <td>8</td>\n",
       "      <td>WA</td>\n",
       "    </tr>\n",
       "    <tr>\n",
       "      <th>4</th>\n",
       "      <td>4</td>\n",
       "      <td>Station Lakefront Rental Home</td>\n",
       "      <td>Station Lakefront Rental Home, 8188 Plum Lake ...</td>\n",
       "      <td>0x4d55cee0af102c25:0x752b313677a78e1c</td>\n",
       "      <td>45.998720</td>\n",
       "      <td>-89.490867</td>\n",
       "      <td>[Resort hotel]</td>\n",
       "      <td>4.7</td>\n",
       "      <td>3</td>\n",
       "      <td>WI</td>\n",
       "    </tr>\n",
       "  </tbody>\n",
       "</table>\n",
       "</div>"
      ],
      "text/plain": [
       "   business_id                  business_name  \\\n",
       "0            0            Basecamp Guesthouse   \n",
       "1            1               Sugar River Loft   \n",
       "2            2                   Meraki Lodge   \n",
       "3            3      View House at Lake Chelan   \n",
       "4            4  Station Lakefront Rental Home   \n",
       "\n",
       "                                             address  \\\n",
       "0  Basecamp Guesthouse, 49010 SE Middle Fork Rd, ...   \n",
       "1  Sugar River Loft, 929 W Exchange St, Brodhead,...   \n",
       "2      Meraki Lodge, 223 Meraki Ln, Manson, WA 98831   \n",
       "3  View House at Lake Chelan, 245 Summerset Blvd,...   \n",
       "4  Station Lakefront Rental Home, 8188 Plum Lake ...   \n",
       "\n",
       "                                 gmap_id   latitude   longitude  \\\n",
       "0  0x54907fca2751e187:0x3d6ae31ac18da483  47.471332 -121.686928   \n",
       "1  0x88062b28cb53ef6d:0x94df72568fddf391  42.619862  -89.377890   \n",
       "2  0x549b9d4ad8f113d5:0x8258a10cca866a62  47.887653 -120.120376   \n",
       "3  0x549b9db4d73626a3:0x348e8f7106d3be41  47.888291 -120.124120   \n",
       "4  0x4d55cee0af102c25:0x752b313677a78e1c  45.998720  -89.490867   \n",
       "\n",
       "                                     category  avg_rating  num_of_reviews  \\\n",
       "0                                     [Hotel]         5.0               8   \n",
       "1                                     [Hotel]         4.7               8   \n",
       "2  [Hotel, Group accommodation, Lodge, Motel]         4.9              15   \n",
       "3                                     [Hotel]         4.4               8   \n",
       "4                              [Resort hotel]         4.7               3   \n",
       "\n",
       "  state  \n",
       "0    WA  \n",
       "1    WI  \n",
       "2    WA  \n",
       "3    WA  \n",
       "4    WI  "
      ]
     },
     "execution_count": 203,
     "metadata": {},
     "output_type": "execute_result"
    }
   ],
   "source": [
    "business.head()"
   ]
  },
  {
   "cell_type": "markdown",
   "metadata": {},
   "source": [
    "Usamos explode() para expandir las listas de la columna category, los nuevos registros de categoria conservan su respectivo index de la anterior tabla, pero al haber creado la columna business_id con valores iguales al index de dicha tabla, los valores de categoria ahora coinciden correctamente con el id de los hoteles."
   ]
  },
  {
   "cell_type": "code",
   "execution_count": 136,
   "metadata": {},
   "outputs": [],
   "source": [
    "import ast\n",
    "\n",
    "business['category'] = business['category'].apply(ast.literal_eval)"
   ]
  },
  {
   "cell_type": "code",
   "execution_count": 137,
   "metadata": {},
   "outputs": [
    {
     "data": {
      "text/html": [
       "<div>\n",
       "<style scoped>\n",
       "    .dataframe tbody tr th:only-of-type {\n",
       "        vertical-align: middle;\n",
       "    }\n",
       "\n",
       "    .dataframe tbody tr th {\n",
       "        vertical-align: top;\n",
       "    }\n",
       "\n",
       "    .dataframe thead th {\n",
       "        text-align: right;\n",
       "    }\n",
       "</style>\n",
       "<table border=\"1\" class=\"dataframe\">\n",
       "  <thead>\n",
       "    <tr style=\"text-align: right;\">\n",
       "      <th></th>\n",
       "      <th>business_id</th>\n",
       "      <th>category</th>\n",
       "    </tr>\n",
       "  </thead>\n",
       "  <tbody>\n",
       "    <tr>\n",
       "      <th>0</th>\n",
       "      <td>0</td>\n",
       "      <td>Hotel</td>\n",
       "    </tr>\n",
       "    <tr>\n",
       "      <th>1</th>\n",
       "      <td>1</td>\n",
       "      <td>Hotel</td>\n",
       "    </tr>\n",
       "    <tr>\n",
       "      <th>2</th>\n",
       "      <td>2</td>\n",
       "      <td>Hotel</td>\n",
       "    </tr>\n",
       "    <tr>\n",
       "      <th>3</th>\n",
       "      <td>2</td>\n",
       "      <td>Group accommodation</td>\n",
       "    </tr>\n",
       "    <tr>\n",
       "      <th>4</th>\n",
       "      <td>2</td>\n",
       "      <td>Lodge</td>\n",
       "    </tr>\n",
       "  </tbody>\n",
       "</table>\n",
       "</div>"
      ],
      "text/plain": [
       "   business_id             category\n",
       "0            0                Hotel\n",
       "1            1                Hotel\n",
       "2            2                Hotel\n",
       "3            2  Group accommodation\n",
       "4            2                Lodge"
      ]
     },
     "execution_count": 137,
     "metadata": {},
     "output_type": "execute_result"
    }
   ],
   "source": [
    "business_category = business.explode('category')[\"category\"].reset_index()\n",
    "business_category.rename(columns={'index': 'business_id'}, inplace=True)\n",
    "business_category.head()"
   ]
  },
  {
   "cell_type": "markdown",
   "metadata": {},
   "source": [
    "Ahora con los valores unicos se puede crear la tabla de categoria, hacer un join posteriormente y borrar la columna category de business."
   ]
  },
  {
   "cell_type": "code",
   "execution_count": 138,
   "metadata": {},
   "outputs": [
    {
     "data": {
      "text/html": [
       "<div>\n",
       "<style scoped>\n",
       "    .dataframe tbody tr th:only-of-type {\n",
       "        vertical-align: middle;\n",
       "    }\n",
       "\n",
       "    .dataframe tbody tr th {\n",
       "        vertical-align: top;\n",
       "    }\n",
       "\n",
       "    .dataframe thead th {\n",
       "        text-align: right;\n",
       "    }\n",
       "</style>\n",
       "<table border=\"1\" class=\"dataframe\">\n",
       "  <thead>\n",
       "    <tr style=\"text-align: right;\">\n",
       "      <th></th>\n",
       "      <th>category_id</th>\n",
       "      <th>category</th>\n",
       "    </tr>\n",
       "  </thead>\n",
       "  <tbody>\n",
       "    <tr>\n",
       "      <th>0</th>\n",
       "      <td>0</td>\n",
       "      <td>Hotel</td>\n",
       "    </tr>\n",
       "    <tr>\n",
       "      <th>1</th>\n",
       "      <td>1</td>\n",
       "      <td>Group accommodation</td>\n",
       "    </tr>\n",
       "    <tr>\n",
       "      <th>2</th>\n",
       "      <td>2</td>\n",
       "      <td>Lodge</td>\n",
       "    </tr>\n",
       "    <tr>\n",
       "      <th>3</th>\n",
       "      <td>3</td>\n",
       "      <td>Motel</td>\n",
       "    </tr>\n",
       "    <tr>\n",
       "      <th>4</th>\n",
       "      <td>4</td>\n",
       "      <td>Resort hotel</td>\n",
       "    </tr>\n",
       "    <tr>\n",
       "      <th>...</th>\n",
       "      <td>...</td>\n",
       "      <td>...</td>\n",
       "    </tr>\n",
       "    <tr>\n",
       "      <th>590</th>\n",
       "      <td>590</td>\n",
       "      <td>Low income housing program</td>\n",
       "    </tr>\n",
       "    <tr>\n",
       "      <th>591</th>\n",
       "      <td>591</td>\n",
       "      <td>Boat club</td>\n",
       "    </tr>\n",
       "    <tr>\n",
       "      <th>592</th>\n",
       "      <td>592</td>\n",
       "      <td>Scrapbooking store</td>\n",
       "    </tr>\n",
       "    <tr>\n",
       "      <th>593</th>\n",
       "      <td>593</td>\n",
       "      <td>Rehabilitation center</td>\n",
       "    </tr>\n",
       "    <tr>\n",
       "      <th>594</th>\n",
       "      <td>594</td>\n",
       "      <td>German restaurant</td>\n",
       "    </tr>\n",
       "  </tbody>\n",
       "</table>\n",
       "<p>595 rows × 2 columns</p>\n",
       "</div>"
      ],
      "text/plain": [
       "     category_id                    category\n",
       "0              0                       Hotel\n",
       "1              1         Group accommodation\n",
       "2              2                       Lodge\n",
       "3              3                       Motel\n",
       "4              4                Resort hotel\n",
       "..           ...                         ...\n",
       "590          590  Low income housing program\n",
       "591          591                   Boat club\n",
       "592          592          Scrapbooking store\n",
       "593          593       Rehabilitation center\n",
       "594          594           German restaurant\n",
       "\n",
       "[595 rows x 2 columns]"
      ]
     },
     "execution_count": 138,
     "metadata": {},
     "output_type": "execute_result"
    }
   ],
   "source": [
    "category = business_category[\"category\"].drop_duplicates().reset_index(drop=True) \n",
    "category = category.reset_index()\n",
    "category.rename(columns={'index': 'category_id'}, inplace=True)\n",
    "category"
   ]
  },
  {
   "cell_type": "code",
   "execution_count": 139,
   "metadata": {},
   "outputs": [
    {
     "data": {
      "text/html": [
       "<div>\n",
       "<style scoped>\n",
       "    .dataframe tbody tr th:only-of-type {\n",
       "        vertical-align: middle;\n",
       "    }\n",
       "\n",
       "    .dataframe tbody tr th {\n",
       "        vertical-align: top;\n",
       "    }\n",
       "\n",
       "    .dataframe thead th {\n",
       "        text-align: right;\n",
       "    }\n",
       "</style>\n",
       "<table border=\"1\" class=\"dataframe\">\n",
       "  <thead>\n",
       "    <tr style=\"text-align: right;\">\n",
       "      <th></th>\n",
       "      <th>business_id</th>\n",
       "      <th>category_id</th>\n",
       "    </tr>\n",
       "  </thead>\n",
       "  <tbody>\n",
       "    <tr>\n",
       "      <th>0</th>\n",
       "      <td>0</td>\n",
       "      <td>0</td>\n",
       "    </tr>\n",
       "    <tr>\n",
       "      <th>1</th>\n",
       "      <td>1</td>\n",
       "      <td>0</td>\n",
       "    </tr>\n",
       "    <tr>\n",
       "      <th>2</th>\n",
       "      <td>2</td>\n",
       "      <td>0</td>\n",
       "    </tr>\n",
       "    <tr>\n",
       "      <th>3</th>\n",
       "      <td>2</td>\n",
       "      <td>3</td>\n",
       "    </tr>\n",
       "    <tr>\n",
       "      <th>4</th>\n",
       "      <td>2</td>\n",
       "      <td>1</td>\n",
       "    </tr>\n",
       "  </tbody>\n",
       "</table>\n",
       "</div>"
      ],
      "text/plain": [
       "   business_id  category_id\n",
       "0            0            0\n",
       "1            1            0\n",
       "2            2            0\n",
       "3            2            3\n",
       "4            2            1"
      ]
     },
     "execution_count": 139,
     "metadata": {},
     "output_type": "execute_result"
    }
   ],
   "source": [
    "business_category = business_category.merge(category, on=\"category\").sort_values(by=\"business_id\").drop(columns=\"category\").reset_index(drop=True)\n",
    "business_category.head()"
   ]
  },
  {
   "cell_type": "code",
   "execution_count": 140,
   "metadata": {},
   "outputs": [],
   "source": [
    "state_names = [\"Alabama\", \"Alaska\", \"Arizona\", \"Arkansas\", \"California\", \"Colorado\", \"Connecticut\", \"Washington DC\", \"Delaware\", \"Florida\", \"Georgia\",\n",
    "               \"Hawaii\", \"Idaho\", \"Illinois\", \"Indiana\", \"Iowa\", \"Kansas\", \"Kentucky\", \"Louisiana\", \"Maine\", \"Maryland\", \"Massachusetts\",\n",
    "               \"Michigan\", \"Minnesota\", \"Mississippi\", \"Missouri\", \"Montana\", \"Nebraska\", \"Nevada\", \"New Hampshire\", \"New Jersey\", \"New Mexico\",\n",
    "               \"New York\", \"North Carolina\", \"North Dakota\", \"Ohio\", \"Oklahoma\", \"Oregon\", \"Pennsylvania\", \"Rhode Island\", \"South Carolina\",\n",
    "               \"South Dakota\", \"Tennessee\", \"Texas\", \"Utah\", \"Vermont\", \"Virginia\", \"Washington\", \"West Virginia\", \"Wisconsin\", \"Wyoming\"]"
   ]
  },
  {
   "cell_type": "code",
   "execution_count": 143,
   "metadata": {},
   "outputs": [],
   "source": [
    "states = pd.DataFrame()\n",
    "states[\"state\"] = valid_state_codes\n",
    "states[\"state_name\"] = state_names"
   ]
  },
  {
   "cell_type": "markdown",
   "metadata": {},
   "source": [
    "### Users"
   ]
  },
  {
   "cell_type": "code",
   "execution_count": 145,
   "metadata": {},
   "outputs": [
    {
     "data": {
      "text/html": [
       "<div>\n",
       "<style scoped>\n",
       "    .dataframe tbody tr th:only-of-type {\n",
       "        vertical-align: middle;\n",
       "    }\n",
       "\n",
       "    .dataframe tbody tr th {\n",
       "        vertical-align: top;\n",
       "    }\n",
       "\n",
       "    .dataframe thead th {\n",
       "        text-align: right;\n",
       "    }\n",
       "</style>\n",
       "<table border=\"1\" class=\"dataframe\">\n",
       "  <thead>\n",
       "    <tr style=\"text-align: right;\">\n",
       "      <th></th>\n",
       "      <th>user_id</th>\n",
       "      <th>name_x</th>\n",
       "      <th>time</th>\n",
       "      <th>rating</th>\n",
       "      <th>text</th>\n",
       "      <th>gmap_id</th>\n",
       "    </tr>\n",
       "  </thead>\n",
       "  <tbody>\n",
       "    <tr>\n",
       "      <th>0</th>\n",
       "      <td>114992108396100335559</td>\n",
       "      <td>Cherena Dukes</td>\n",
       "      <td>1574336225144</td>\n",
       "      <td>4</td>\n",
       "      <td>Nice homes in fairly new subdivisions.</td>\n",
       "      <td>0x88892dc32d67742d:0x91dc8f0e85b37f5e</td>\n",
       "    </tr>\n",
       "    <tr>\n",
       "      <th>1</th>\n",
       "      <td>109682539851735063549</td>\n",
       "      <td>Lee Morrison</td>\n",
       "      <td>1543167503668</td>\n",
       "      <td>2</td>\n",
       "      <td>Roads are terrible.  Neighbors park in yards. ...</td>\n",
       "      <td>0x88892dc32d67742d:0x91dc8f0e85b37f5e</td>\n",
       "    </tr>\n",
       "    <tr>\n",
       "      <th>26</th>\n",
       "      <td>112665186528292597385</td>\n",
       "      <td>Charlie Cline</td>\n",
       "      <td>1454821094934</td>\n",
       "      <td>4</td>\n",
       "      <td>Good location. Nice staff. Clean. Breakfast ar...</td>\n",
       "      <td>0x88890491e9416625:0x2f85307a06ddb16</td>\n",
       "    </tr>\n",
       "    <tr>\n",
       "      <th>27</th>\n",
       "      <td>108637957038201408174</td>\n",
       "      <td>Jennifer Passmore</td>\n",
       "      <td>1491966256419</td>\n",
       "      <td>5</td>\n",
       "      <td>Super clean very friendly</td>\n",
       "      <td>0x88890491e9416625:0x2f85307a06ddb16</td>\n",
       "    </tr>\n",
       "    <tr>\n",
       "      <th>28</th>\n",
       "      <td>109079098695645726629</td>\n",
       "      <td>TheBeckyboo926</td>\n",
       "      <td>1476494074021</td>\n",
       "      <td>5</td>\n",
       "      <td>Amazing! We had a conference room and it was a...</td>\n",
       "      <td>0x88890491e9416625:0x2f85307a06ddb16</td>\n",
       "    </tr>\n",
       "  </tbody>\n",
       "</table>\n",
       "</div>"
      ],
      "text/plain": [
       "                  user_id             name_x           time  rating  \\\n",
       "0   114992108396100335559      Cherena Dukes  1574336225144       4   \n",
       "1   109682539851735063549       Lee Morrison  1543167503668       2   \n",
       "26  112665186528292597385      Charlie Cline  1454821094934       4   \n",
       "27  108637957038201408174  Jennifer Passmore  1491966256419       5   \n",
       "28  109079098695645726629     TheBeckyboo926  1476494074021       5   \n",
       "\n",
       "                                                 text  \\\n",
       "0              Nice homes in fairly new subdivisions.   \n",
       "1   Roads are terrible.  Neighbors park in yards. ...   \n",
       "26  Good location. Nice staff. Clean. Breakfast ar...   \n",
       "27                          Super clean very friendly   \n",
       "28  Amazing! We had a conference room and it was a...   \n",
       "\n",
       "                                  gmap_id  \n",
       "0   0x88892dc32d67742d:0x91dc8f0e85b37f5e  \n",
       "1   0x88892dc32d67742d:0x91dc8f0e85b37f5e  \n",
       "26   0x88890491e9416625:0x2f85307a06ddb16  \n",
       "27   0x88890491e9416625:0x2f85307a06ddb16  \n",
       "28   0x88890491e9416625:0x2f85307a06ddb16  "
      ]
     },
     "execution_count": 145,
     "metadata": {},
     "output_type": "execute_result"
    }
   ],
   "source": [
    "reviews.head()"
   ]
  },
  {
   "cell_type": "code",
   "execution_count": 161,
   "metadata": {},
   "outputs": [],
   "source": [
    "users = reviews[[\"user_id\", \"name_x\"]].drop_duplicates(subset=['user_id', 'name_x']).reset_index(drop=True)"
   ]
  },
  {
   "cell_type": "code",
   "execution_count": 162,
   "metadata": {},
   "outputs": [
    {
     "data": {
      "text/plain": [
       "16"
      ]
     },
     "execution_count": 162,
     "metadata": {},
     "output_type": "execute_result"
    }
   ],
   "source": [
    "users.duplicated(subset=\"user_id\").sum()"
   ]
  },
  {
   "cell_type": "code",
   "execution_count": 163,
   "metadata": {},
   "outputs": [],
   "source": [
    "users.drop_duplicates(subset=\"user_id\", inplace=True)"
   ]
  },
  {
   "cell_type": "code",
   "execution_count": 164,
   "metadata": {},
   "outputs": [],
   "source": [
    "users.rename(columns={'user_id': 'google_id'}, inplace=True)"
   ]
  },
  {
   "cell_type": "code",
   "execution_count": 165,
   "metadata": {},
   "outputs": [],
   "source": [
    "users = users.reset_index(drop=True)"
   ]
  },
  {
   "cell_type": "code",
   "execution_count": 166,
   "metadata": {},
   "outputs": [
    {
     "data": {
      "text/html": [
       "<div>\n",
       "<style scoped>\n",
       "    .dataframe tbody tr th:only-of-type {\n",
       "        vertical-align: middle;\n",
       "    }\n",
       "\n",
       "    .dataframe tbody tr th {\n",
       "        vertical-align: top;\n",
       "    }\n",
       "\n",
       "    .dataframe thead th {\n",
       "        text-align: right;\n",
       "    }\n",
       "</style>\n",
       "<table border=\"1\" class=\"dataframe\">\n",
       "  <thead>\n",
       "    <tr style=\"text-align: right;\">\n",
       "      <th></th>\n",
       "      <th>user_id</th>\n",
       "      <th>google_id</th>\n",
       "      <th>user_name</th>\n",
       "    </tr>\n",
       "  </thead>\n",
       "  <tbody>\n",
       "    <tr>\n",
       "      <th>0</th>\n",
       "      <td>0</td>\n",
       "      <td>114992108396100335559</td>\n",
       "      <td>Cherena Dukes</td>\n",
       "    </tr>\n",
       "    <tr>\n",
       "      <th>1</th>\n",
       "      <td>1</td>\n",
       "      <td>109682539851735063549</td>\n",
       "      <td>Lee Morrison</td>\n",
       "    </tr>\n",
       "    <tr>\n",
       "      <th>2</th>\n",
       "      <td>2</td>\n",
       "      <td>112665186528292597385</td>\n",
       "      <td>Charlie Cline</td>\n",
       "    </tr>\n",
       "    <tr>\n",
       "      <th>3</th>\n",
       "      <td>3</td>\n",
       "      <td>108637957038201408174</td>\n",
       "      <td>Jennifer Passmore</td>\n",
       "    </tr>\n",
       "    <tr>\n",
       "      <th>4</th>\n",
       "      <td>4</td>\n",
       "      <td>109079098695645726629</td>\n",
       "      <td>TheBeckyboo926</td>\n",
       "    </tr>\n",
       "    <tr>\n",
       "      <th>...</th>\n",
       "      <td>...</td>\n",
       "      <td>...</td>\n",
       "      <td>...</td>\n",
       "    </tr>\n",
       "    <tr>\n",
       "      <th>43737</th>\n",
       "      <td>43737</td>\n",
       "      <td>111182362803426279975</td>\n",
       "      <td>Matthew Kohl</td>\n",
       "    </tr>\n",
       "    <tr>\n",
       "      <th>43738</th>\n",
       "      <td>43738</td>\n",
       "      <td>105737959930315802253</td>\n",
       "      <td>Fred Rosa</td>\n",
       "    </tr>\n",
       "    <tr>\n",
       "      <th>43739</th>\n",
       "      <td>43739</td>\n",
       "      <td>113801734532377408633</td>\n",
       "      <td>Robin Reed</td>\n",
       "    </tr>\n",
       "    <tr>\n",
       "      <th>43740</th>\n",
       "      <td>43740</td>\n",
       "      <td>117464169380525203120</td>\n",
       "      <td>Jorden Parks</td>\n",
       "    </tr>\n",
       "    <tr>\n",
       "      <th>43741</th>\n",
       "      <td>43741</td>\n",
       "      <td>104721669185865905217</td>\n",
       "      <td>Trevor Harmon</td>\n",
       "    </tr>\n",
       "  </tbody>\n",
       "</table>\n",
       "<p>43742 rows × 3 columns</p>\n",
       "</div>"
      ],
      "text/plain": [
       "       user_id              google_id          user_name\n",
       "0            0  114992108396100335559      Cherena Dukes\n",
       "1            1  109682539851735063549       Lee Morrison\n",
       "2            2  112665186528292597385      Charlie Cline\n",
       "3            3  108637957038201408174  Jennifer Passmore\n",
       "4            4  109079098695645726629     TheBeckyboo926\n",
       "...        ...                    ...                ...\n",
       "43737    43737  111182362803426279975       Matthew Kohl\n",
       "43738    43738  105737959930315802253          Fred Rosa\n",
       "43739    43739  113801734532377408633         Robin Reed\n",
       "43740    43740  117464169380525203120       Jorden Parks\n",
       "43741    43741  104721669185865905217      Trevor Harmon\n",
       "\n",
       "[43742 rows x 3 columns]"
      ]
     },
     "execution_count": 166,
     "metadata": {},
     "output_type": "execute_result"
    }
   ],
   "source": [
    "users = users.reset_index()\n",
    "users.rename(columns={'index': 'user_id', 'name_x': 'user_name'}, inplace=True)\n",
    "users"
   ]
  },
  {
   "cell_type": "markdown",
   "metadata": {},
   "source": [
    "## Tabla de hechos"
   ]
  },
  {
   "cell_type": "code",
   "execution_count": 168,
   "metadata": {},
   "outputs": [],
   "source": [
    "reviews['time'] = pd.to_datetime(reviews['time'], unit='ms')\n",
    "reviews['time'] = reviews['time'].dt.strftime('%Y-%m-%d')"
   ]
  },
  {
   "cell_type": "code",
   "execution_count": 169,
   "metadata": {},
   "outputs": [],
   "source": [
    "reviews.drop(columns=\"name_x\", inplace=True)"
   ]
  },
  {
   "cell_type": "code",
   "execution_count": 172,
   "metadata": {},
   "outputs": [],
   "source": [
    "reviews.rename(columns={'time': 'date', 'user_id': 'google_id',\n",
    "                        'text': 'review'}, inplace=True)"
   ]
  },
  {
   "cell_type": "code",
   "execution_count": 193,
   "metadata": {},
   "outputs": [],
   "source": [
    "reviews = reviews.sort_values(by=\"date\").reset_index(drop=True)"
   ]
  },
  {
   "cell_type": "code",
   "execution_count": 194,
   "metadata": {},
   "outputs": [
    {
     "data": {
      "text/html": [
       "<div>\n",
       "<style scoped>\n",
       "    .dataframe tbody tr th:only-of-type {\n",
       "        vertical-align: middle;\n",
       "    }\n",
       "\n",
       "    .dataframe tbody tr th {\n",
       "        vertical-align: top;\n",
       "    }\n",
       "\n",
       "    .dataframe thead th {\n",
       "        text-align: right;\n",
       "    }\n",
       "</style>\n",
       "<table border=\"1\" class=\"dataframe\">\n",
       "  <thead>\n",
       "    <tr style=\"text-align: right;\">\n",
       "      <th></th>\n",
       "      <th>review_id</th>\n",
       "      <th>google_id</th>\n",
       "      <th>date</th>\n",
       "      <th>rating</th>\n",
       "      <th>review</th>\n",
       "      <th>gmap_id</th>\n",
       "    </tr>\n",
       "  </thead>\n",
       "  <tbody>\n",
       "    <tr>\n",
       "      <th>0</th>\n",
       "      <td>0</td>\n",
       "      <td>103650800402109980585</td>\n",
       "      <td>2007-09-19</td>\n",
       "      <td>1</td>\n",
       "      <td>Called on Saturday, would not see us even thou...</td>\n",
       "      <td>0x880f0cae93214435:0x328a1fd2d302c34f</td>\n",
       "    </tr>\n",
       "    <tr>\n",
       "      <th>1</th>\n",
       "      <td>1</td>\n",
       "      <td>107032311994563884394</td>\n",
       "      <td>2007-12-30</td>\n",
       "      <td>4</td>\n",
       "      <td>We stayed 3 nights - Thanksgiving weekend 2007...</td>\n",
       "      <td>0x88646e55c2098b83:0x2ec91f6e70b68e3e</td>\n",
       "    </tr>\n",
       "    <tr>\n",
       "      <th>2</th>\n",
       "      <td>2</td>\n",
       "      <td>109828460192402399885</td>\n",
       "      <td>2008-02-11</td>\n",
       "      <td>3</td>\n",
       "      <td>too many tourists.</td>\n",
       "      <td>0x89c258f5922d74b9:0x85af792fa088fefb</td>\n",
       "    </tr>\n",
       "    <tr>\n",
       "      <th>3</th>\n",
       "      <td>3</td>\n",
       "      <td>113399057748819148056</td>\n",
       "      <td>2008-05-24</td>\n",
       "      <td>5</td>\n",
       "      <td>Great Security , service, and accomodation.  P...</td>\n",
       "      <td>0x8640bfeb782384ab:0x2b855859e2ca69c2</td>\n",
       "    </tr>\n",
       "    <tr>\n",
       "      <th>4</th>\n",
       "      <td>4</td>\n",
       "      <td>116437168519004876189</td>\n",
       "      <td>2008-09-20</td>\n",
       "      <td>3</td>\n",
       "      <td>I'm pretty easy to please. So, I loved the clo...</td>\n",
       "      <td>0x883a4684edffecdb:0x92acc61b87cd2de9</td>\n",
       "    </tr>\n",
       "    <tr>\n",
       "      <th>...</th>\n",
       "      <td>...</td>\n",
       "      <td>...</td>\n",
       "      <td>...</td>\n",
       "      <td>...</td>\n",
       "      <td>...</td>\n",
       "      <td>...</td>\n",
       "    </tr>\n",
       "    <tr>\n",
       "      <th>44752</th>\n",
       "      <td>44752</td>\n",
       "      <td>101740175963128176096</td>\n",
       "      <td>2021-08-27</td>\n",
       "      <td>3</td>\n",
       "      <td>Kool\\nGood enough</td>\n",
       "      <td>0x8824d6e1fe1e747f:0xc8095268889e2428</td>\n",
       "    </tr>\n",
       "    <tr>\n",
       "      <th>44753</th>\n",
       "      <td>44753</td>\n",
       "      <td>103615591642852508667</td>\n",
       "      <td>2021-08-28</td>\n",
       "      <td>5</td>\n",
       "      <td>My room was 100% updated and spotless! Absolut...</td>\n",
       "      <td>0x890069b8ea819cb1:0xd7a54f4a9948981e</td>\n",
       "    </tr>\n",
       "    <tr>\n",
       "      <th>44754</th>\n",
       "      <td>44754</td>\n",
       "      <td>115210921748709918356</td>\n",
       "      <td>2021-08-31</td>\n",
       "      <td>1</td>\n",
       "      <td>Terrible</td>\n",
       "      <td>0x88626b3eef6314db:0x1c0b19d1d69d1d24</td>\n",
       "    </tr>\n",
       "    <tr>\n",
       "      <th>44755</th>\n",
       "      <td>44755</td>\n",
       "      <td>104664581384426348152</td>\n",
       "      <td>2021-09-03</td>\n",
       "      <td>5</td>\n",
       "      <td>Stunning view, cute and extremely clean little...</td>\n",
       "      <td>0x54907fca2751e187:0x3d6ae31ac18da483</td>\n",
       "    </tr>\n",
       "    <tr>\n",
       "      <th>44756</th>\n",
       "      <td>44756</td>\n",
       "      <td>102004240079687486442</td>\n",
       "      <td>2021-09-06</td>\n",
       "      <td>4</td>\n",
       "      <td>It was great playing with my friends and beaut...</td>\n",
       "      <td>0x89b812078b35c7b1:0xd3dde3b0ae9efd26</td>\n",
       "    </tr>\n",
       "  </tbody>\n",
       "</table>\n",
       "<p>44757 rows × 6 columns</p>\n",
       "</div>"
      ],
      "text/plain": [
       "       review_id              google_id        date  rating  \\\n",
       "0              0  103650800402109980585  2007-09-19       1   \n",
       "1              1  107032311994563884394  2007-12-30       4   \n",
       "2              2  109828460192402399885  2008-02-11       3   \n",
       "3              3  113399057748819148056  2008-05-24       5   \n",
       "4              4  116437168519004876189  2008-09-20       3   \n",
       "...          ...                    ...         ...     ...   \n",
       "44752      44752  101740175963128176096  2021-08-27       3   \n",
       "44753      44753  103615591642852508667  2021-08-28       5   \n",
       "44754      44754  115210921748709918356  2021-08-31       1   \n",
       "44755      44755  104664581384426348152  2021-09-03       5   \n",
       "44756      44756  102004240079687486442  2021-09-06       4   \n",
       "\n",
       "                                                  review  \\\n",
       "0      Called on Saturday, would not see us even thou...   \n",
       "1      We stayed 3 nights - Thanksgiving weekend 2007...   \n",
       "2                                     too many tourists.   \n",
       "3      Great Security , service, and accomodation.  P...   \n",
       "4      I'm pretty easy to please. So, I loved the clo...   \n",
       "...                                                  ...   \n",
       "44752                                  Kool\\nGood enough   \n",
       "44753  My room was 100% updated and spotless! Absolut...   \n",
       "44754                                           Terrible   \n",
       "44755  Stunning view, cute and extremely clean little...   \n",
       "44756  It was great playing with my friends and beaut...   \n",
       "\n",
       "                                     gmap_id  \n",
       "0      0x880f0cae93214435:0x328a1fd2d302c34f  \n",
       "1      0x88646e55c2098b83:0x2ec91f6e70b68e3e  \n",
       "2      0x89c258f5922d74b9:0x85af792fa088fefb  \n",
       "3      0x8640bfeb782384ab:0x2b855859e2ca69c2  \n",
       "4      0x883a4684edffecdb:0x92acc61b87cd2de9  \n",
       "...                                      ...  \n",
       "44752  0x8824d6e1fe1e747f:0xc8095268889e2428  \n",
       "44753  0x890069b8ea819cb1:0xd7a54f4a9948981e  \n",
       "44754  0x88626b3eef6314db:0x1c0b19d1d69d1d24  \n",
       "44755  0x54907fca2751e187:0x3d6ae31ac18da483  \n",
       "44756  0x89b812078b35c7b1:0xd3dde3b0ae9efd26  \n",
       "\n",
       "[44757 rows x 6 columns]"
      ]
     },
     "execution_count": 194,
     "metadata": {},
     "output_type": "execute_result"
    }
   ],
   "source": [
    "reviews = reviews.reset_index() \n",
    "reviews.rename(columns={'index': 'review_id'}, inplace=True)\n",
    "reviews"
   ]
  },
  {
   "cell_type": "markdown",
   "metadata": {},
   "source": [
    "## Guardando dataset"
   ]
  },
  {
   "cell_type": "code",
   "execution_count": 195,
   "metadata": {},
   "outputs": [],
   "source": [
    "# Exportamos\n",
    "reviews.to_csv('../processed_data/reviews_google_normalizado.csv', index=False, sep='|')"
   ]
  },
  {
   "cell_type": "code",
   "execution_count": 178,
   "metadata": {},
   "outputs": [],
   "source": [
    "users.to_csv('../processed_data/users_google.csv', index=False, sep='|')"
   ]
  },
  {
   "cell_type": "code",
   "execution_count": 179,
   "metadata": {},
   "outputs": [],
   "source": [
    "business.to_csv('../processed_data/business_google.csv', index=False, sep='|')"
   ]
  },
  {
   "cell_type": "code",
   "execution_count": 180,
   "metadata": {},
   "outputs": [],
   "source": [
    "category.to_csv('../processed_data/category_google.csv', index=False, sep='|')"
   ]
  },
  {
   "cell_type": "code",
   "execution_count": 181,
   "metadata": {},
   "outputs": [],
   "source": [
    "business_category.to_csv('../processed_data/business_category_google.csv', index=False, sep='|')"
   ]
  },
  {
   "cell_type": "code",
   "execution_count": 182,
   "metadata": {},
   "outputs": [],
   "source": [
    "states.to_csv('../processed_data/states.csv', index=False, sep='|')"
   ]
  },
  {
   "cell_type": "markdown",
   "metadata": {},
   "source": [
    "Para efectos practicos de exploracion de datos y modelado, se guarda tambien una tabla no normalizada."
   ]
  },
  {
   "cell_type": "code",
   "execution_count": 197,
   "metadata": {},
   "outputs": [],
   "source": [
    "reviews_merge = reviews.merge(business, on=\"gmap_id\")"
   ]
  },
  {
   "cell_type": "code",
   "execution_count": 198,
   "metadata": {},
   "outputs": [],
   "source": [
    "reviews_merge.to_csv('../processed_data/reviews_google_sin_normalizar.csv', index=False, sep='|')"
   ]
  }
 ],
 "metadata": {
  "kernelspec": {
   "display_name": "Python 3",
   "language": "python",
   "name": "python3"
  },
  "language_info": {
   "codemirror_mode": {
    "name": "ipython",
    "version": 3
   },
   "file_extension": ".py",
   "mimetype": "text/x-python",
   "name": "python",
   "nbconvert_exporter": "python",
   "pygments_lexer": "ipython3",
   "version": "3.10.11"
  },
  "orig_nbformat": 4
 },
 "nbformat": 4,
 "nbformat_minor": 2
}
